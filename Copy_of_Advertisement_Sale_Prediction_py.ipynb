{
  "nbformat": 4,
  "nbformat_minor": 0,
  "metadata": {
    "colab": {
      "provenance": [],
      "include_colab_link": true
    },
    "kernelspec": {
      "name": "python3",
      "display_name": "Python 3"
    },
    "language_info": {
      "name": "python"
    }
  },
  "cells": [
    {
      "cell_type": "markdown",
      "metadata": {
        "id": "view-in-github",
        "colab_type": "text"
      },
      "source": [
        "<a href=\"https://colab.research.google.com/github/leyka15/Sales-Precdiction/blob/main/Copy_of_Advertisement_Sale_Prediction_py.ipynb\" target=\"_parent\"><img src=\"https://colab.research.google.com/assets/colab-badge.svg\" alt=\"Open In Colab\"/></a>"
      ]
    },
    {
      "cell_type": "markdown",
      "source": [
        "**Importing** **Libraries**"
      ],
      "metadata": {
        "id": "Fa8vWXiXBi1s"
      }
    },
    {
      "cell_type": "code",
      "execution_count": null,
      "metadata": {
        "id": "p_8w3Mi5Bglf"
      },
      "outputs": [],
      "source": [
        "import pandas as pd\n",
        "import numpy as np"
      ]
    },
    {
      "cell_type": "markdown",
      "source": [
        "**Choose dataset file from local** **directory**"
      ],
      "metadata": {
        "id": "IAQd6KjXB3v4"
      }
    },
    {
      "cell_type": "code",
      "source": [
        "from google.colab import files\n",
        "uploaded=files.upload()"
      ],
      "metadata": {
        "colab": {
          "base_uri": "https://localhost:8080/",
          "height": 74
        },
        "id": "KkOHyYUvCAmA",
        "outputId": "d4d72596-99f1-46de-c92d-7a5aacdcb23a"
      },
      "execution_count": null,
      "outputs": [
        {
          "output_type": "display_data",
          "data": {
            "text/plain": [
              "<IPython.core.display.HTML object>"
            ],
            "text/html": [
              "\n",
              "     <input type=\"file\" id=\"files-70f48390-0e81-45ae-9c19-babe6015a72b\" name=\"files[]\" multiple disabled\n",
              "        style=\"border:none\" />\n",
              "     <output id=\"result-70f48390-0e81-45ae-9c19-babe6015a72b\">\n",
              "      Upload widget is only available when the cell has been executed in the\n",
              "      current browser session. Please rerun this cell to enable.\n",
              "      </output>\n",
              "      <script>// Copyright 2017 Google LLC\n",
              "//\n",
              "// Licensed under the Apache License, Version 2.0 (the \"License\");\n",
              "// you may not use this file except in compliance with the License.\n",
              "// You may obtain a copy of the License at\n",
              "//\n",
              "//      http://www.apache.org/licenses/LICENSE-2.0\n",
              "//\n",
              "// Unless required by applicable law or agreed to in writing, software\n",
              "// distributed under the License is distributed on an \"AS IS\" BASIS,\n",
              "// WITHOUT WARRANTIES OR CONDITIONS OF ANY KIND, either express or implied.\n",
              "// See the License for the specific language governing permissions and\n",
              "// limitations under the License.\n",
              "\n",
              "/**\n",
              " * @fileoverview Helpers for google.colab Python module.\n",
              " */\n",
              "(function(scope) {\n",
              "function span(text, styleAttributes = {}) {\n",
              "  const element = document.createElement('span');\n",
              "  element.textContent = text;\n",
              "  for (const key of Object.keys(styleAttributes)) {\n",
              "    element.style[key] = styleAttributes[key];\n",
              "  }\n",
              "  return element;\n",
              "}\n",
              "\n",
              "// Max number of bytes which will be uploaded at a time.\n",
              "const MAX_PAYLOAD_SIZE = 100 * 1024;\n",
              "\n",
              "function _uploadFiles(inputId, outputId) {\n",
              "  const steps = uploadFilesStep(inputId, outputId);\n",
              "  const outputElement = document.getElementById(outputId);\n",
              "  // Cache steps on the outputElement to make it available for the next call\n",
              "  // to uploadFilesContinue from Python.\n",
              "  outputElement.steps = steps;\n",
              "\n",
              "  return _uploadFilesContinue(outputId);\n",
              "}\n",
              "\n",
              "// This is roughly an async generator (not supported in the browser yet),\n",
              "// where there are multiple asynchronous steps and the Python side is going\n",
              "// to poll for completion of each step.\n",
              "// This uses a Promise to block the python side on completion of each step,\n",
              "// then passes the result of the previous step as the input to the next step.\n",
              "function _uploadFilesContinue(outputId) {\n",
              "  const outputElement = document.getElementById(outputId);\n",
              "  const steps = outputElement.steps;\n",
              "\n",
              "  const next = steps.next(outputElement.lastPromiseValue);\n",
              "  return Promise.resolve(next.value.promise).then((value) => {\n",
              "    // Cache the last promise value to make it available to the next\n",
              "    // step of the generator.\n",
              "    outputElement.lastPromiseValue = value;\n",
              "    return next.value.response;\n",
              "  });\n",
              "}\n",
              "\n",
              "/**\n",
              " * Generator function which is called between each async step of the upload\n",
              " * process.\n",
              " * @param {string} inputId Element ID of the input file picker element.\n",
              " * @param {string} outputId Element ID of the output display.\n",
              " * @return {!Iterable<!Object>} Iterable of next steps.\n",
              " */\n",
              "function* uploadFilesStep(inputId, outputId) {\n",
              "  const inputElement = document.getElementById(inputId);\n",
              "  inputElement.disabled = false;\n",
              "\n",
              "  const outputElement = document.getElementById(outputId);\n",
              "  outputElement.innerHTML = '';\n",
              "\n",
              "  const pickedPromise = new Promise((resolve) => {\n",
              "    inputElement.addEventListener('change', (e) => {\n",
              "      resolve(e.target.files);\n",
              "    });\n",
              "  });\n",
              "\n",
              "  const cancel = document.createElement('button');\n",
              "  inputElement.parentElement.appendChild(cancel);\n",
              "  cancel.textContent = 'Cancel upload';\n",
              "  const cancelPromise = new Promise((resolve) => {\n",
              "    cancel.onclick = () => {\n",
              "      resolve(null);\n",
              "    };\n",
              "  });\n",
              "\n",
              "  // Wait for the user to pick the files.\n",
              "  const files = yield {\n",
              "    promise: Promise.race([pickedPromise, cancelPromise]),\n",
              "    response: {\n",
              "      action: 'starting',\n",
              "    }\n",
              "  };\n",
              "\n",
              "  cancel.remove();\n",
              "\n",
              "  // Disable the input element since further picks are not allowed.\n",
              "  inputElement.disabled = true;\n",
              "\n",
              "  if (!files) {\n",
              "    return {\n",
              "      response: {\n",
              "        action: 'complete',\n",
              "      }\n",
              "    };\n",
              "  }\n",
              "\n",
              "  for (const file of files) {\n",
              "    const li = document.createElement('li');\n",
              "    li.append(span(file.name, {fontWeight: 'bold'}));\n",
              "    li.append(span(\n",
              "        `(${file.type || 'n/a'}) - ${file.size} bytes, ` +\n",
              "        `last modified: ${\n",
              "            file.lastModifiedDate ? file.lastModifiedDate.toLocaleDateString() :\n",
              "                                    'n/a'} - `));\n",
              "    const percent = span('0% done');\n",
              "    li.appendChild(percent);\n",
              "\n",
              "    outputElement.appendChild(li);\n",
              "\n",
              "    const fileDataPromise = new Promise((resolve) => {\n",
              "      const reader = new FileReader();\n",
              "      reader.onload = (e) => {\n",
              "        resolve(e.target.result);\n",
              "      };\n",
              "      reader.readAsArrayBuffer(file);\n",
              "    });\n",
              "    // Wait for the data to be ready.\n",
              "    let fileData = yield {\n",
              "      promise: fileDataPromise,\n",
              "      response: {\n",
              "        action: 'continue',\n",
              "      }\n",
              "    };\n",
              "\n",
              "    // Use a chunked sending to avoid message size limits. See b/62115660.\n",
              "    let position = 0;\n",
              "    do {\n",
              "      const length = Math.min(fileData.byteLength - position, MAX_PAYLOAD_SIZE);\n",
              "      const chunk = new Uint8Array(fileData, position, length);\n",
              "      position += length;\n",
              "\n",
              "      const base64 = btoa(String.fromCharCode.apply(null, chunk));\n",
              "      yield {\n",
              "        response: {\n",
              "          action: 'append',\n",
              "          file: file.name,\n",
              "          data: base64,\n",
              "        },\n",
              "      };\n",
              "\n",
              "      let percentDone = fileData.byteLength === 0 ?\n",
              "          100 :\n",
              "          Math.round((position / fileData.byteLength) * 100);\n",
              "      percent.textContent = `${percentDone}% done`;\n",
              "\n",
              "    } while (position < fileData.byteLength);\n",
              "  }\n",
              "\n",
              "  // All done.\n",
              "  yield {\n",
              "    response: {\n",
              "      action: 'complete',\n",
              "    }\n",
              "  };\n",
              "}\n",
              "\n",
              "scope.google = scope.google || {};\n",
              "scope.google.colab = scope.google.colab || {};\n",
              "scope.google.colab._files = {\n",
              "  _uploadFiles,\n",
              "  _uploadFilesContinue,\n",
              "};\n",
              "})(self);\n",
              "</script> "
            ]
          },
          "metadata": {}
        },
        {
          "output_type": "stream",
          "name": "stdout",
          "text": [
            "Saving project.csv to project (1).csv\n"
          ]
        }
      ]
    },
    {
      "cell_type": "markdown",
      "source": [
        "**Load dataset**"
      ],
      "metadata": {
        "id": "yi0rvez7CYFb"
      }
    },
    {
      "cell_type": "code",
      "source": [
        "dataset=pd.read_csv(\"project.csv\")\n",
        "print(dataset)"
      ],
      "metadata": {
        "colab": {
          "base_uri": "https://localhost:8080/"
        },
        "id": "hQ6odbOXCazn",
        "outputId": "6763ffdc-0778-4296-8d4b-adfa128fc024"
      },
      "execution_count": null,
      "outputs": [
        {
          "output_type": "stream",
          "name": "stdout",
          "text": [
            "    23  82000  0\n",
            "0   34  80000  0\n",
            "1   47  25000  1\n",
            "2   77  23000  1\n",
            "3   45  15000  0\n",
            "4   21  50000  1\n",
            "..  ..    ... ..\n",
            "94  34  23000  1\n",
            "95  25  67000  0\n",
            "96  56  56000  0\n",
            "97  56  23000  1\n",
            "98  32  34000  0\n",
            "\n",
            "[99 rows x 3 columns]\n"
          ]
        }
      ]
    },
    {
      "cell_type": "markdown",
      "source": [
        "**Summarize dataset**"
      ],
      "metadata": {
        "id": "6SrRGRVZDHiR"
      }
    },
    {
      "cell_type": "code",
      "source": [
        "print(dataset.shape)\n",
        "print(dataset.head(5))"
      ],
      "metadata": {
        "colab": {
          "base_uri": "https://localhost:8080/"
        },
        "id": "jSdfWzMmDL_U",
        "outputId": "41263a64-4f3a-4752-c5ce-11f9b7bc3c26"
      },
      "execution_count": null,
      "outputs": [
        {
          "output_type": "stream",
          "name": "stdout",
          "text": [
            "(99, 3)\n",
            "   23  82000  0\n",
            "0  34  80000  0\n",
            "1  47  25000  1\n",
            "2  77  23000  1\n",
            "3  45  15000  0\n",
            "4  21  50000  1\n"
          ]
        }
      ]
    },
    {
      "cell_type": "markdown",
      "source": [
        "**Segregate Datbase into x and y**"
      ],
      "metadata": {
        "id": "A5vWrxI8DTRo"
      }
    },
    {
      "cell_type": "code",
      "source": [
        "x=dataset.iloc[:,:-1].values\n",
        "x\n",
        "y=dataset.iloc[:,-1].values\n",
        "y"
      ],
      "metadata": {
        "colab": {
          "base_uri": "https://localhost:8080/"
        },
        "id": "AsaJlAomDaM4",
        "outputId": "32bbe028-619b-4675-e802-9ed21d32ceb7"
      },
      "execution_count": null,
      "outputs": [
        {
          "output_type": "execute_result",
          "data": {
            "text/plain": [
              "array([0, 1, 1, 0, 1, 0, 1, 0, 1, 0, 1, 0, 1, 1, 1, 0, 1, 1, 1, 0, 0, 1,\n",
              "       0, 1, 0, 0, 0, 1, 0, 0, 1, 0, 1, 1, 0, 1, 1, 0, 0, 1, 0, 1, 1, 0,\n",
              "       0, 1, 0, 0, 1, 0, 1, 1, 0, 0, 0, 1, 0, 1, 1, 0, 0, 1, 0, 1, 0, 1,\n",
              "       1, 0, 0, 1, 0, 0, 1, 1, 0, 0, 1, 0, 0, 1, 1, 0, 1, 0, 1, 0, 0, 1,\n",
              "       0, 0, 1, 0, 1, 0, 1, 0, 0, 1, 0])"
            ]
          },
          "metadata": {},
          "execution_count": 10
        }
      ]
    },
    {
      "cell_type": "markdown",
      "source": [
        "**Splitting dataset into train & test**"
      ],
      "metadata": {
        "id": "X70uVK0JDrIq"
      }
    },
    {
      "cell_type": "code",
      "source": [
        "from sklearn.model_selection import train_test_split\n",
        "x_train,x_test,y_train,y_test=train_test_split(x,y,test_size=0.25,random_state=0)"
      ],
      "metadata": {
        "id": "RKumUhrND0OX"
      },
      "execution_count": null,
      "outputs": []
    },
    {
      "cell_type": "markdown",
      "source": [
        "**Feature Scaling**"
      ],
      "metadata": {
        "id": "KEQR8ck4EMbZ"
      }
    },
    {
      "cell_type": "code",
      "source": [
        "from sklearn.preprocessing import StandardScaler\n",
        "sc=StandardScaler()\n",
        "x_train=sc.fit_transform(x_train)\n",
        "x_test=sc.transform(x_test)\n",
        "print(x_train)"
      ],
      "metadata": {
        "colab": {
          "base_uri": "https://localhost:8080/"
        },
        "id": "qvaEyvIxEWWr",
        "outputId": "ccd03abf-17e7-47a2-806d-cad3d73e55b5"
      },
      "execution_count": null,
      "outputs": [
        {
          "output_type": "stream",
          "name": "stdout",
          "text": [
            "[[ 4.47650464e-01 -4.09907843e-01]\n",
            " [-6.77175829e-01  6.01198170e-01]\n",
            " [-8.45899773e-01 -4.09907843e-01]\n",
            " [-5.85213680e-02  1.61230418e+00]\n",
            " [ 1.57247676e+00  3.72643494e-03]\n",
            " [-7.33417144e-01  6.01198170e-01]\n",
            " [-1.01462372e+00  9.56451634e-02]\n",
            " [ 3.91409149e-01 -9.61420214e-01]\n",
            " [ 5.03891779e-01  4.63320077e-01]\n",
            " [ 5.03891779e-01  5.09279442e-01]\n",
            " [ 1.12254624e+00 -1.74272941e+00]\n",
            " [-1.07086503e+00  6.01198170e-01]\n",
            " [-7.33417144e-01  5.09279442e-01]\n",
            " [ 3.91409149e-01  1.10675118e+00]\n",
            " [ 3.35167835e-01  1.88806037e+00]\n",
            " [-2.28005330e-03 -8.23542121e-01]\n",
            " [-7.33417144e-01  9.56451634e-02]\n",
            " [ 1.62871807e+00 -1.78868877e+00]\n",
            " [-1.57703686e+00 -5.47785936e-01]\n",
            " [-1.46455423e+00  3.25441985e-01]\n",
            " [-1.01462372e+00  6.01198170e-01]\n",
            " [-7.33417144e-01 -4.09907843e-01]\n",
            " [-5.64693200e-01 -1.74272941e+00]\n",
            " [ 4.47650464e-01  6.01198170e-01]\n",
            " [-1.57703686e+00  9.56451634e-02]\n",
            " [-1.35207161e+00 -8.69501486e-01]\n",
            " [-1.46455423e+00 -5.01826572e-01]\n",
            " [-7.33417144e-01  1.70422291e+00]\n",
            " [-1.18334766e+00 -5.01826572e-01]\n",
            " [ 1.62871807e+00  2.79482620e-01]\n",
            " [-8.45899773e-01  1.10675118e+00]\n",
            " [ 7.28857037e-01  5.55238806e-01]\n",
            " [ 1.66443891e-01  1.41604528e-01]\n",
            " [ 5.03891779e-01  1.10675118e+00]\n",
            " [-5.64693200e-01 -4.09907843e-01]\n",
            " [ 1.85368333e+00  4.96857992e-02]\n",
            " [ 1.01006361e+00 -1.23717640e+00]\n",
            " [-1.14762683e-01 -4.09907843e-01]\n",
            " [-1.14762683e-01 -4.09907843e-01]\n",
            " [-1.23958898e+00  1.10675118e+00]\n",
            " [ 5.03891779e-01  6.01198170e-01]\n",
            " [ 1.01006361e+00 -7.77582757e-01]\n",
            " [ 2.19113122e+00 -9.15460850e-01]\n",
            " [ 5.03891779e-01 -1.55889195e+00]\n",
            " [ 2.30361385e+00  6.01198170e-01]\n",
            " [-5.64693200e-01 -1.19121704e+00]\n",
            " [-1.35207161e+00 -1.14525767e+00]\n",
            " [ 1.01006361e+00  1.61230418e+00]\n",
            " [ 5.03891779e-01  6.01198170e-01]\n",
            " [ 5.03891779e-01 -9.15460850e-01]\n",
            " [-7.33417144e-01 -6.39704664e-01]\n",
            " [ 5.39612614e-02  3.72643494e-03]\n",
            " [ 5.03891779e-01 -3.17989115e-01]\n",
            " [-7.33417144e-01 -9.15460850e-01]\n",
            " [-7.33417144e-01 -9.15460850e-01]\n",
            " [-1.18334766e+00  2.43957274e+00]\n",
            " [-1.71003997e-01  1.70422291e+00]\n",
            " [ 5.03891779e-01 -1.65081068e+00]\n",
            " [ 2.19113122e+00 -4.09907843e-01]\n",
            " [ 3.91409149e-01  1.10675118e+00]\n",
            " [-1.14762683e-01  6.01198170e-01]\n",
            " [ 5.03891779e-01 -1.69677004e+00]\n",
            " [ 2.22685205e-01  2.02593846e+00]\n",
            " [ 5.03891779e-01 -4.09907843e-01]\n",
            " [ 1.68495939e+00 -4.09907843e-01]\n",
            " [-7.89658459e-01 -1.19121704e+00]\n",
            " [-1.35207161e+00 -1.55889195e+00]\n",
            " [-2.27245312e-01 -4.09907843e-01]\n",
            " [ 5.03891779e-01 -2.72029750e-01]\n",
            " [-1.23958898e+00  1.10675118e+00]\n",
            " [ 1.12254624e+00  1.52038545e+00]\n",
            " [ 1.12254624e+00  9.56451634e-02]\n",
            " [-1.35207161e+00  6.01198170e-01]\n",
            " [-1.14762683e-01  9.56451634e-02]]\n"
          ]
        }
      ]
    },
    {
      "cell_type": "markdown",
      "source": [
        "**Training**"
      ],
      "metadata": {
        "id": "nKpOYWQaEziu"
      }
    },
    {
      "cell_type": "code",
      "source": [
        "from sklearn.linear_model import LogisticRegression\n",
        "model=LogisticRegression()\n",
        "model.fit(x_train,y_train)"
      ],
      "metadata": {
        "colab": {
          "base_uri": "https://localhost:8080/"
        },
        "id": "q7FI6MHLEzJj",
        "outputId": "cd177bf6-e971-4f6e-ec0d-75b49798a842"
      },
      "execution_count": null,
      "outputs": [
        {
          "output_type": "execute_result",
          "data": {
            "text/plain": [
              "LogisticRegression()"
            ]
          },
          "metadata": {},
          "execution_count": 13
        }
      ]
    },
    {
      "cell_type": "markdown",
      "source": [
        "**Prediction**"
      ],
      "metadata": {
        "id": "gjxWyunGFNjA"
      }
    },
    {
      "cell_type": "code",
      "source": [
        "age=int(input(\"Enter new customer's age:\"))\n",
        "salary=int(input(\"Enter salary:\"))\n",
        "newcust=[[age,salary]]\n",
        "result=model.predict(sc.transform(newcust))\n",
        "print(result)\n",
        "if result==1:\n",
        "   print(\"Customer will buy\")\n",
        "else:\n",
        "   print(\"Customer won't buy\")"
      ],
      "metadata": {
        "colab": {
          "base_uri": "https://localhost:8080/"
        },
        "id": "e6l2QceeFRMw",
        "outputId": "10320592-8901-4dfa-a123-0d371dcb2c8b"
      },
      "execution_count": null,
      "outputs": [
        {
          "output_type": "stream",
          "name": "stdout",
          "text": [
            "Enter new customer's age:26\n",
            "Enter salary:96000\n",
            "[0]\n",
            "Customer won't buy\n"
          ]
        }
      ]
    },
    {
      "cell_type": "markdown",
      "source": [
        "**Prediction for all test data**"
      ],
      "metadata": {
        "id": "zWjaTg53F3Bc"
      }
    },
    {
      "cell_type": "code",
      "source": [
        "y_pred=model.predict(x_test)"
      ],
      "metadata": {
        "id": "02LrQ9gVJWAI"
      },
      "execution_count": null,
      "outputs": []
    },
    {
      "cell_type": "markdown",
      "source": [
        "**Accuracy**"
      ],
      "metadata": {
        "id": "_cPNYAUvJc2l"
      }
    },
    {
      "cell_type": "code",
      "source": [
        "\n",
        "from sklearn.metrics import confusion_matrix,accuracy_score\n",
        "print(\"Accuracy of model:{0}%\".format(accuracy_score(y_test,y_pred)*100))"
      ],
      "metadata": {
        "colab": {
          "base_uri": "https://localhost:8080/"
        },
        "id": "TO6lsGqjF7GF",
        "outputId": "ec8b3f9e-a3ef-4956-f151-232bf7476158"
      },
      "execution_count": null,
      "outputs": [
        {
          "output_type": "stream",
          "name": "stdout",
          "text": [
            "Accuracy of model:44.0%\n"
          ]
        }
      ]
    }
  ]
}